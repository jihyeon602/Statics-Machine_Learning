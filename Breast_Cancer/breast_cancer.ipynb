{
 "cells": [
  {
   "cell_type": "code",
   "execution_count": 82,
   "metadata": {},
   "outputs": [],
   "source": [
    "import warnings\n",
    "warnings.filterwarnings(action='ignore')\n",
    "\n",
    "import numpy as np\n",
    "import pandas as pd\n",
    "import matplotlib.pyplot as plt\n",
    "from sklearn.linear_model import LogisticRegression\n",
    "from sklearn.model_selection import train_test_split"
   ]
  },
  {
   "cell_type": "code",
   "execution_count": null,
   "metadata": {},
   "outputs": [],
   "source": []
  },
  {
   "cell_type": "code",
   "execution_count": 83,
   "metadata": {},
   "outputs": [
    {
     "name": "stdout",
     "output_type": "stream",
     "text": [
      "Path to dataset files: C:\\Users\\302-26\\.cache\\kagglehub\\datasets\\uciml\\breast-cancer-wisconsin-data\\versions\\2\n"
     ]
    }
   ],
   "source": [
    "import kagglehub\n",
    "\n",
    "# Download latest version\n",
    "path = kagglehub.dataset_download(\"uciml/breast-cancer-wisconsin-data\")\n",
    "\n",
    "print(\"Path to dataset files:\", path)"
   ]
  },
  {
   "cell_type": "code",
   "execution_count": 84,
   "metadata": {},
   "outputs": [
    {
     "name": "stdout",
     "output_type": "stream",
     "text": [
      "         id diagnosis  radius_mean  texture_mean  perimeter_mean  area_mean  \\\n",
      "0    842302         M        17.99         10.38          122.80     1001.0   \n",
      "1    842517         M        20.57         17.77          132.90     1326.0   \n",
      "2  84300903         M        19.69         21.25          130.00     1203.0   \n",
      "3  84348301         M        11.42         20.38           77.58      386.1   \n",
      "4  84358402         M        20.29         14.34          135.10     1297.0   \n",
      "5    843786         M        12.45         15.70           82.57      477.1   \n",
      "6    844359         M        18.25         19.98          119.60     1040.0   \n",
      "7  84458202         M        13.71         20.83           90.20      577.9   \n",
      "8    844981         M        13.00         21.82           87.50      519.8   \n",
      "9  84501001         M        12.46         24.04           83.97      475.9   \n",
      "\n",
      "   smoothness_mean  compactness_mean  concavity_mean  concave points_mean  \\\n",
      "0          0.11840           0.27760         0.30010              0.14710   \n",
      "1          0.08474           0.07864         0.08690              0.07017   \n",
      "2          0.10960           0.15990         0.19740              0.12790   \n",
      "3          0.14250           0.28390         0.24140              0.10520   \n",
      "4          0.10030           0.13280         0.19800              0.10430   \n",
      "5          0.12780           0.17000         0.15780              0.08089   \n",
      "6          0.09463           0.10900         0.11270              0.07400   \n",
      "7          0.11890           0.16450         0.09366              0.05985   \n",
      "8          0.12730           0.19320         0.18590              0.09353   \n",
      "9          0.11860           0.23960         0.22730              0.08543   \n",
      "\n",
      "   ...  texture_worst  perimeter_worst  area_worst  smoothness_worst  \\\n",
      "0  ...          17.33           184.60      2019.0            0.1622   \n",
      "1  ...          23.41           158.80      1956.0            0.1238   \n",
      "2  ...          25.53           152.50      1709.0            0.1444   \n",
      "3  ...          26.50            98.87       567.7            0.2098   \n",
      "4  ...          16.67           152.20      1575.0            0.1374   \n",
      "5  ...          23.75           103.40       741.6            0.1791   \n",
      "6  ...          27.66           153.20      1606.0            0.1442   \n",
      "7  ...          28.14           110.60       897.0            0.1654   \n",
      "8  ...          30.73           106.20       739.3            0.1703   \n",
      "9  ...          40.68            97.65       711.4            0.1853   \n",
      "\n",
      "   compactness_worst  concavity_worst  concave points_worst  symmetry_worst  \\\n",
      "0             0.6656           0.7119                0.2654          0.4601   \n",
      "1             0.1866           0.2416                0.1860          0.2750   \n",
      "2             0.4245           0.4504                0.2430          0.3613   \n",
      "3             0.8663           0.6869                0.2575          0.6638   \n",
      "4             0.2050           0.4000                0.1625          0.2364   \n",
      "5             0.5249           0.5355                0.1741          0.3985   \n",
      "6             0.2576           0.3784                0.1932          0.3063   \n",
      "7             0.3682           0.2678                0.1556          0.3196   \n",
      "8             0.5401           0.5390                0.2060          0.4378   \n",
      "9             1.0580           1.1050                0.2210          0.4366   \n",
      "\n",
      "   fractal_dimension_worst  Unnamed: 32  \n",
      "0                  0.11890          NaN  \n",
      "1                  0.08902          NaN  \n",
      "2                  0.08758          NaN  \n",
      "3                  0.17300          NaN  \n",
      "4                  0.07678          NaN  \n",
      "5                  0.12440          NaN  \n",
      "6                  0.08368          NaN  \n",
      "7                  0.11510          NaN  \n",
      "8                  0.10720          NaN  \n",
      "9                  0.20750          NaN  \n",
      "\n",
      "[10 rows x 33 columns]\n"
     ]
    }
   ],
   "source": [
    "data = pd.read_csv(r\"C:\\Users\\302-26\\.cache\\kagglehub\\datasets\\uciml\\breast-cancer-wisconsin-data\\versions\\2\\data.csv\", encoding=\"CP949\")\n",
    "print(data.head(10))"
   ]
  },
  {
   "cell_type": "code",
   "execution_count": 85,
   "metadata": {},
   "outputs": [
    {
     "data": {
      "text/plain": [
       "Index(['id', 'diagnosis', 'radius_mean', 'texture_mean', 'perimeter_mean',\n",
       "       'area_mean', 'smoothness_mean', 'compactness_mean', 'concavity_mean',\n",
       "       'concave points_mean', 'symmetry_mean', 'fractal_dimension_mean',\n",
       "       'radius_se', 'texture_se', 'perimeter_se', 'area_se', 'smoothness_se',\n",
       "       'compactness_se', 'concavity_se', 'concave points_se', 'symmetry_se',\n",
       "       'fractal_dimension_se', 'radius_worst', 'texture_worst',\n",
       "       'perimeter_worst', 'area_worst', 'smoothness_worst',\n",
       "       'compactness_worst', 'concavity_worst', 'concave points_worst',\n",
       "       'symmetry_worst', 'fractal_dimension_worst', 'Unnamed: 32'],\n",
       "      dtype='object')"
      ]
     },
     "execution_count": 85,
     "metadata": {},
     "output_type": "execute_result"
    }
   ],
   "source": [
    "data.columns"
   ]
  },
  {
   "cell_type": "code",
   "execution_count": 86,
   "metadata": {},
   "outputs": [
    {
     "name": "stdout",
     "output_type": "stream",
     "text": [
      "<class 'pandas.core.frame.DataFrame'>\n",
      "RangeIndex: 569 entries, 0 to 568\n",
      "Data columns (total 11 columns):\n",
      " #   Column                  Non-Null Count  Dtype  \n",
      "---  ------                  --------------  -----  \n",
      " 0   diagnosis               569 non-null    object \n",
      " 1   radius_mean             569 non-null    float64\n",
      " 2   texture_mean            569 non-null    float64\n",
      " 3   perimeter_mean          569 non-null    float64\n",
      " 4   area_mean               569 non-null    float64\n",
      " 5   smoothness_mean         569 non-null    float64\n",
      " 6   compactness_mean        569 non-null    float64\n",
      " 7   concavity_mean          569 non-null    float64\n",
      " 8   concave points_mean     569 non-null    float64\n",
      " 9   symmetry_mean           569 non-null    float64\n",
      " 10  fractal_dimension_mean  569 non-null    float64\n",
      "dtypes: float64(10), object(1)\n",
      "memory usage: 49.0+ KB\n",
      "None\n",
      "<class 'pandas.core.frame.DataFrame'>\n",
      "RangeIndex: 569 entries, 0 to 568\n",
      "Data columns (total 11 columns):\n",
      " #   Column                   Non-Null Count  Dtype  \n",
      "---  ------                   --------------  -----  \n",
      " 0   diagnosis                569 non-null    object \n",
      " 1   radius_worst             569 non-null    float64\n",
      " 2   texture_worst            569 non-null    float64\n",
      " 3   perimeter_worst          569 non-null    float64\n",
      " 4   area_worst               569 non-null    float64\n",
      " 5   smoothness_worst         569 non-null    float64\n",
      " 6   compactness_worst        569 non-null    float64\n",
      " 7   concavity_worst          569 non-null    float64\n",
      " 8   concave points_worst     569 non-null    float64\n",
      " 9   symmetry_worst           569 non-null    float64\n",
      " 10  fractal_dimension_worst  569 non-null    float64\n",
      "dtypes: float64(10), object(1)\n",
      "memory usage: 49.0+ KB\n",
      "None\n"
     ]
    }
   ],
   "source": [
    "data = data.drop(columns=['id', 'Unnamed: 32'])\n",
    "mean_col = ['diagnosis', 'radius_mean', 'texture_mean', 'perimeter_mean', \n",
    "        'area_mean', 'smoothness_mean', 'compactness_mean', 'concavity_mean', \n",
    "        'concave points_mean', 'symmetry_mean', 'fractal_dimension_mean']\n",
    "worst_col = ['diagnosis', 'radius_worst', 'texture_worst', 'perimeter_worst', \n",
    "        'area_worst', 'smoothness_worst', 'compactness_worst', 'concavity_worst', \n",
    "        'concave points_worst', 'symmetry_worst', 'fractal_dimension_worst']\n",
    " \n",
    "BRST_mean = data[mean_col]\n",
    "\n",
    "BRST_worst = data[worst_col]\n",
    "\n",
    "print(BRST_mean.info())\n",
    "print(BRST_worst.info())"
   ]
  },
  {
   "cell_type": "code",
   "execution_count": 87,
   "metadata": {},
   "outputs": [
    {
     "name": "stdout",
     "output_type": "stream",
     "text": [
      "Train 데이터 크기: (455, 30) (455,)\n",
      "Test 데이터 크기: (114, 30) (114,)\n"
     ]
    }
   ],
   "source": [
    "#Y 피쳐 변환\n",
    "\n",
    "data['diagnosis'] = data['diagnosis'].map({'M': 1, 'B': 0})\n",
    "\n",
    "# 독립변수(X)와 종속변수(y) 설정\n",
    "X = data.drop(columns=['diagnosis']) #진단제외\n",
    "y = data['diagnosis']\n",
    "\n",
    "#데이터분할\n",
    "X_train, X_test, y_train, y_test = train_test_split(X, y, test_size=0.2, random_state=42, stratify=y)\n",
    "\n",
    "print(\"Train 데이터 크기:\", X_train.shape, y_train.shape) #455\n",
    "print(\"Test 데이터 크기:\", X_test.shape, y_test.shape) #114"
   ]
  },
  {
   "cell_type": "code",
   "execution_count": null,
   "metadata": {},
   "outputs": [
    {
     "name": "stdout",
     "output_type": "stream",
     "text": [
      "예측 결과 : [0 1 0 1 1 0 0 0 0 0]\n",
      "LogisticRegression: 93.86\n"
     ]
    }
   ],
   "source": [
    "from sklearn import metrics \n",
    "#로지스틱 회귀 \n",
    "logistic_model = LogisticRegression(solver='lbfgs', max_iter=3000)\n",
    "    \n",
    "logistic_model.fit(X_train, y_train)\n",
    "    \n",
    "predicted = logistic_model.predict(X_test)\n",
    "    \n",
    "    \n",
    "print(\"예측 결과 :\", predicted[:10])\n",
    "print('LogisticRegression: %.2f' % (metrics.accuracy_score(predicted, y_test)*100))\n"
   ]
  },
  {
   "cell_type": "code",
   "execution_count": 89,
   "metadata": {},
   "outputs": [
    {
     "data": {
      "image/png": "[encoded data removed]",
      "text/plain": [
       "<Figure size 600x400 with 1 Axes>"
      ]
     },
     "metadata": {},
     "output_type": "display_data"
    }
   ],
   "source": [
    "# count plot 그리기\n",
    "import seaborn as sns\n",
    "plt.rc('font', family='Malgun Gothic')\n",
    "\n",
    "pred_df = pd.DataFrame(predicted, columns=['Predicted diagnosis'])\n",
    "plt.figure(figsize=(6, 4))\n",
    "sns.countplot(x=pred_df['Predicted diagnosis'], palette=['skyblue', 'pink'])\n",
    "\n",
    "# x축 라벨 변경 (0: 양성, 1: 악성)\n",
    "plt.xticks(ticks=[0, 1], labels=['양성', '악성'])\n",
    "plt.xlabel(\"Predicted Diagnosis\")\n",
    "plt.ylabel(\"Count\")\n",
    "plt.title(\"Breast Cancer predicted\")\n",
    "plt.show()"
   ]
  }
 ],
 "metadata": {
  "kernelspec": {
   "display_name": "base",
   "language": "python",
   "name": "python3"
  },
  "language_info": {
   "codemirror_mode": {
    "name": "ipython",
    "version": 3
   },
   "file_extension": ".py",
   "mimetype": "text/x-python",
   "name": "python",
   "nbconvert_exporter": "python",
   "pygments_lexer": "ipython3",
   "version": "3.12.7"
  }
 },
 "nbformat": 4,
 "nbformat_minor": 2
}
