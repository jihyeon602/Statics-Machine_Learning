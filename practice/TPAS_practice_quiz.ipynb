{
  "cells": [
    {
      "cell_type": "markdown",
      "metadata": {
        "id": "view-in-github",
        "colab_type": "text"
      },
      "source": [
        "<a href=\"https://colab.research.google.com/github/jihyeon602/statics_test/blob/main/practice/TPAS_practice_quiz.ipynb\" target=\"_parent\"><img src=\"https://colab.research.google.com/assets/colab-badge.svg\" alt=\"Open In Colab\"/></a>"
      ]
    },
    {
      "cell_type": "markdown",
      "metadata": {
        "id": "7RLa_hL1dfaF"
      },
      "source": [
        "# Q1"
      ]
    },
    {
      "cell_type": "code",
      "execution_count": 7,
      "metadata": {
        "vscode": {
          "languageId": "plaintext"
        },
        "colab": {
          "base_uri": "https://localhost:8080/"
        },
        "id": "sbXBlUuadfaG",
        "outputId": "1700cfa0-439c-42af-cf35-b6a9fb141e9d"
      },
      "outputs": [
        {
          "output_type": "stream",
          "name": "stdout",
          "text": [
            "24\n",
            "1\n",
            "120\n"
          ]
        }
      ],
      "source": [
        "# ! 함수 정의\n",
        "def fac(n):\n",
        "    if n == 0:\n",
        "      return 1\n",
        "    else:\n",
        "      return n * fac(n-1)\n",
        "\n",
        "# 4! 계산\n",
        "print(fac(4))\n",
        "print(fac(0))\n",
        "print(fac(5))"
      ]
    },
    {
      "cell_type": "markdown",
      "metadata": {
        "id": "ndsMnKQpdfaG"
      },
      "source": [
        "# Q2"
      ]
    },
    {
      "cell_type": "code",
      "execution_count": 8,
      "metadata": {
        "vscode": {
          "languageId": "plaintext"
        },
        "colab": {
          "base_uri": "https://localhost:8080/"
        },
        "id": "6oW4JZsjdfaG",
        "outputId": "201cc578-6203-4153-b407-638908bd5998"
      },
      "outputs": [
        {
          "output_type": "stream",
          "name": "stdout",
          "text": [
            "[('jh', 'hj'), ('jh', 'mj'), ('jh', 'ms'), ('jh', 'sj'), ('jh', 'dw'), ('hj', 'jh'), ('hj', 'mj'), ('hj', 'ms'), ('hj', 'sj'), ('hj', 'dw'), ('mj', 'jh'), ('mj', 'hj'), ('mj', 'ms'), ('mj', 'sj'), ('mj', 'dw'), ('ms', 'jh'), ('ms', 'hj'), ('ms', 'mj'), ('ms', 'sj'), ('ms', 'dw'), ('sj', 'jh'), ('sj', 'hj'), ('sj', 'mj'), ('sj', 'ms'), ('sj', 'dw'), ('dw', 'jh'), ('dw', 'hj'), ('dw', 'mj'), ('dw', 'ms'), ('dw', 'sj')]\n",
            "30\n"
          ]
        }
      ],
      "source": [
        "from itertools import permutations\n",
        "from itertools import combinations\n",
        "\n",
        "# 순열 : 6명 수강생 중 2명에게 순위별 상품을 주는 경우의 수\n",
        "rank_per = list(permutations([\"jh\", \"hj\", \"mj\", \"ms\", \"sj\", \"dw\"], 2))\n",
        "rank_per_num = len(rank_per)\n",
        "\n",
        "print(rank_per)\n",
        "print(rank_per_num)"
      ]
    },
    {
      "cell_type": "code",
      "source": [
        "i = list(range(1,21))\n",
        "print(i)\n",
        "rank_20 = list(permutations(range(1, 21), 4))\n",
        "rank_20_num = len(rank_20)\n",
        "\n",
        "print(rank_20[:5])\n",
        "print(rank_20_num)"
      ],
      "metadata": {
        "colab": {
          "base_uri": "https://localhost:8080/"
        },
        "id": "SxSYa1dZKDSB",
        "outputId": "50bb20f5-3deb-4941-81bf-2bc410fae7f6"
      },
      "execution_count": 50,
      "outputs": [
        {
          "output_type": "stream",
          "name": "stdout",
          "text": [
            "[1, 2, 3, 4, 5, 6, 7, 8, 9, 10, 11, 12, 13, 14, 15, 16, 17, 18, 19, 20]\n",
            "[(1, 2, 3, 4), (1, 2, 3, 5), (1, 2, 3, 6), (1, 2, 3, 7), (1, 2, 3, 8)]\n",
            "116280\n"
          ]
        }
      ]
    },
    {
      "cell_type": "markdown",
      "metadata": {
        "id": "liX25_TvdfaH"
      },
      "source": [
        "# Q3"
      ]
    },
    {
      "cell_type": "code",
      "execution_count": 9,
      "metadata": {
        "vscode": {
          "languageId": "plaintext"
        },
        "colab": {
          "base_uri": "https://localhost:8080/"
        },
        "id": "fvZ_TWP0dfaH",
        "outputId": "e351b56c-741f-40ef-86b6-a1f4b27a3a16"
      },
      "outputs": [
        {
          "output_type": "stream",
          "name": "stdout",
          "text": [
            "[('jh', 'hj'), ('jh', 'mj'), ('jh', 'ms'), ('jh', 'sj'), ('jh', 'dw'), ('hj', 'mj'), ('hj', 'ms'), ('hj', 'sj'), ('hj', 'dw'), ('mj', 'ms'), ('mj', 'sj'), ('mj', 'dw'), ('ms', 'sj'), ('ms', 'dw'), ('sj', 'dw')]\n",
            "15\n"
          ]
        }
      ],
      "source": [
        "from itertools import permutations\n",
        "from itertools import combinations\n",
        "\n",
        "# 조합 : 6명 수강생 중 2명에게 순위 상관없이 상품을 주는 경우의 수\n",
        "rank_com = list(combinations([\"jh\", \"hj\", \"mj\", \"ms\", \"sj\", \"dw\"], 2))\n",
        "rank_com_num = len(rank_com)\n",
        "\n",
        "print(rank_com)\n",
        "print(rank_com_num)"
      ]
    },
    {
      "cell_type": "code",
      "source": [
        "rank_com = list(combinations(range(1, 11), 3))\n",
        "rank_com_num = len(rank_com)\n",
        "\n",
        "print(rank_com[:5])\n",
        "print(rank_com_num)"
      ],
      "metadata": {
        "colab": {
          "base_uri": "https://localhost:8080/"
        },
        "id": "igRROLA0Msih",
        "outputId": "af5b6cbb-c361-423b-961e-e759ce5eea0a"
      },
      "execution_count": 53,
      "outputs": [
        {
          "output_type": "stream",
          "name": "stdout",
          "text": [
            "[(1, 2, 3), (1, 2, 4), (1, 2, 5), (1, 2, 6), (1, 2, 7)]\n",
            "120\n"
          ]
        }
      ]
    },
    {
      "cell_type": "markdown",
      "metadata": {
        "id": "483uznNzdfaH"
      },
      "source": [
        "# Q4"
      ]
    },
    {
      "cell_type": "code",
      "execution_count": 10,
      "metadata": {
        "vscode": {
          "languageId": "plaintext"
        },
        "colab": {
          "base_uri": "https://localhost:8080/"
        },
        "id": "TCsW4AOhdfaH",
        "outputId": "4f9cce92-016b-4f22-849b-5801ced40927"
      },
      "outputs": [
        {
          "output_type": "stream",
          "name": "stdout",
          "text": [
            "[('a', 'a', 'a'), ('a', 'a', 'b'), ('a', 'a', 'c'), ('a', 'a', 'd'), ('a', 'a', 'e'), ('a', 'b', 'a'), ('a', 'b', 'b'), ('a', 'b', 'c'), ('a', 'b', 'd'), ('a', 'b', 'e'), ('a', 'c', 'a'), ('a', 'c', 'b'), ('a', 'c', 'c'), ('a', 'c', 'd'), ('a', 'c', 'e'), ('a', 'd', 'a'), ('a', 'd', 'b'), ('a', 'd', 'c'), ('a', 'd', 'd'), ('a', 'd', 'e'), ('a', 'e', 'a'), ('a', 'e', 'b'), ('a', 'e', 'c'), ('a', 'e', 'd'), ('a', 'e', 'e'), ('b', 'a', 'a'), ('b', 'a', 'b'), ('b', 'a', 'c'), ('b', 'a', 'd'), ('b', 'a', 'e'), ('b', 'b', 'a'), ('b', 'b', 'b'), ('b', 'b', 'c'), ('b', 'b', 'd'), ('b', 'b', 'e'), ('b', 'c', 'a'), ('b', 'c', 'b'), ('b', 'c', 'c'), ('b', 'c', 'd'), ('b', 'c', 'e'), ('b', 'd', 'a'), ('b', 'd', 'b'), ('b', 'd', 'c'), ('b', 'd', 'd'), ('b', 'd', 'e'), ('b', 'e', 'a'), ('b', 'e', 'b'), ('b', 'e', 'c'), ('b', 'e', 'd'), ('b', 'e', 'e'), ('c', 'a', 'a'), ('c', 'a', 'b'), ('c', 'a', 'c'), ('c', 'a', 'd'), ('c', 'a', 'e'), ('c', 'b', 'a'), ('c', 'b', 'b'), ('c', 'b', 'c'), ('c', 'b', 'd'), ('c', 'b', 'e'), ('c', 'c', 'a'), ('c', 'c', 'b'), ('c', 'c', 'c'), ('c', 'c', 'd'), ('c', 'c', 'e'), ('c', 'd', 'a'), ('c', 'd', 'b'), ('c', 'd', 'c'), ('c', 'd', 'd'), ('c', 'd', 'e'), ('c', 'e', 'a'), ('c', 'e', 'b'), ('c', 'e', 'c'), ('c', 'e', 'd'), ('c', 'e', 'e'), ('d', 'a', 'a'), ('d', 'a', 'b'), ('d', 'a', 'c'), ('d', 'a', 'd'), ('d', 'a', 'e'), ('d', 'b', 'a'), ('d', 'b', 'b'), ('d', 'b', 'c'), ('d', 'b', 'd'), ('d', 'b', 'e'), ('d', 'c', 'a'), ('d', 'c', 'b'), ('d', 'c', 'c'), ('d', 'c', 'd'), ('d', 'c', 'e'), ('d', 'd', 'a'), ('d', 'd', 'b'), ('d', 'd', 'c'), ('d', 'd', 'd'), ('d', 'd', 'e'), ('d', 'e', 'a'), ('d', 'e', 'b'), ('d', 'e', 'c'), ('d', 'e', 'd'), ('d', 'e', 'e'), ('e', 'a', 'a'), ('e', 'a', 'b'), ('e', 'a', 'c'), ('e', 'a', 'd'), ('e', 'a', 'e'), ('e', 'b', 'a'), ('e', 'b', 'b'), ('e', 'b', 'c'), ('e', 'b', 'd'), ('e', 'b', 'e'), ('e', 'c', 'a'), ('e', 'c', 'b'), ('e', 'c', 'c'), ('e', 'c', 'd'), ('e', 'c', 'e'), ('e', 'd', 'a'), ('e', 'd', 'b'), ('e', 'd', 'c'), ('e', 'd', 'd'), ('e', 'd', 'e'), ('e', 'e', 'a'), ('e', 'e', 'b'), ('e', 'e', 'c'), ('e', 'e', 'd'), ('e', 'e', 'e')]\n",
            "125\n"
          ]
        }
      ],
      "source": [
        "from itertools import product\n",
        "from itertools import combinations_with_replacement\n",
        "\n",
        "# 중복순열\n",
        "\n",
        "re_per = list(product([\"a\", \"b\", \"c\", \"d\", \"e\"], repeat=3) )\n",
        "re_per_num = len(re_per)\n",
        "\n",
        "print(re_per)\n",
        "print(re_per_num)"
      ]
    },
    {
      "cell_type": "code",
      "source": [
        "re_per = list(product([\"맑\", \"흐\", \"비\"], repeat=3) )\n",
        "re_per_num = len(re_per)\n",
        "\n",
        "print(re_per)\n",
        "print(re_per_num)"
      ],
      "metadata": {
        "colab": {
          "base_uri": "https://localhost:8080/"
        },
        "id": "foCQ2eljNFFw",
        "outputId": "d0a955d2-d394-4ded-d014-b6aa0721372b"
      },
      "execution_count": 31,
      "outputs": [
        {
          "output_type": "stream",
          "name": "stdout",
          "text": [
            "[('맑', '맑', '맑'), ('맑', '맑', '흐'), ('맑', '맑', '비'), ('맑', '흐', '맑'), ('맑', '흐', '흐'), ('맑', '흐', '비'), ('맑', '비', '맑'), ('맑', '비', '흐'), ('맑', '비', '비'), ('흐', '맑', '맑'), ('흐', '맑', '흐'), ('흐', '맑', '비'), ('흐', '흐', '맑'), ('흐', '흐', '흐'), ('흐', '흐', '비'), ('흐', '비', '맑'), ('흐', '비', '흐'), ('흐', '비', '비'), ('비', '맑', '맑'), ('비', '맑', '흐'), ('비', '맑', '비'), ('비', '흐', '맑'), ('비', '흐', '흐'), ('비', '흐', '비'), ('비', '비', '맑'), ('비', '비', '흐'), ('비', '비', '비')]\n",
            "27\n"
          ]
        }
      ]
    },
    {
      "cell_type": "markdown",
      "metadata": {
        "id": "VwJ3jiL5dfaH"
      },
      "source": [
        "# Q5"
      ]
    },
    {
      "cell_type": "code",
      "execution_count": 11,
      "metadata": {
        "vscode": {
          "languageId": "plaintext"
        },
        "colab": {
          "base_uri": "https://localhost:8080/"
        },
        "id": "MUG9iKRkdfaH",
        "outputId": "2b81619c-8e8d-4b6f-b20d-85936e6ca5d3"
      },
      "outputs": [
        {
          "output_type": "stream",
          "name": "stdout",
          "text": [
            "[('a', 'a', 'a'), ('a', 'a', 'b'), ('a', 'a', 'c'), ('a', 'a', 'd'), ('a', 'a', 'e'), ('a', 'b', 'b'), ('a', 'b', 'c'), ('a', 'b', 'd'), ('a', 'b', 'e'), ('a', 'c', 'c'), ('a', 'c', 'd'), ('a', 'c', 'e'), ('a', 'd', 'd'), ('a', 'd', 'e'), ('a', 'e', 'e'), ('b', 'b', 'b'), ('b', 'b', 'c'), ('b', 'b', 'd'), ('b', 'b', 'e'), ('b', 'c', 'c'), ('b', 'c', 'd'), ('b', 'c', 'e'), ('b', 'd', 'd'), ('b', 'd', 'e'), ('b', 'e', 'e'), ('c', 'c', 'c'), ('c', 'c', 'd'), ('c', 'c', 'e'), ('c', 'd', 'd'), ('c', 'd', 'e'), ('c', 'e', 'e'), ('d', 'd', 'd'), ('d', 'd', 'e'), ('d', 'e', 'e'), ('e', 'e', 'e')]\n",
            "35\n"
          ]
        }
      ],
      "source": [
        "from itertools import product\n",
        "from itertools import combinations_with_replacement\n",
        "\n",
        "# 중복조합\n",
        "\n",
        "re_com = list(combinations_with_replacement([\"a\", \"b\", \"c\", \"d\", \"e\"], 3) )\n",
        "re_com_num = len(re_com)\n",
        "\n",
        "print(re_com)\n",
        "print(re_com_num)"
      ]
    },
    {
      "cell_type": "code",
      "source": [
        "re_com = list(combinations_with_replacement([\"오\", \"포\", \"사\"], 5) )\n",
        "re_com_num = len(re_com)\n",
        "\n",
        "print(re_com)\n",
        "print(re_com_num)"
      ],
      "metadata": {
        "colab": {
          "base_uri": "https://localhost:8080/"
        },
        "id": "N7bwJAvBNT1A",
        "outputId": "eaa20ea7-9660-4d80-da22-761b16c112fc"
      },
      "execution_count": 32,
      "outputs": [
        {
          "output_type": "stream",
          "name": "stdout",
          "text": [
            "[('오', '오', '오', '오', '오'), ('오', '오', '오', '오', '포'), ('오', '오', '오', '오', '사'), ('오', '오', '오', '포', '포'), ('오', '오', '오', '포', '사'), ('오', '오', '오', '사', '사'), ('오', '오', '포', '포', '포'), ('오', '오', '포', '포', '사'), ('오', '오', '포', '사', '사'), ('오', '오', '사', '사', '사'), ('오', '포', '포', '포', '포'), ('오', '포', '포', '포', '사'), ('오', '포', '포', '사', '사'), ('오', '포', '사', '사', '사'), ('오', '사', '사', '사', '사'), ('포', '포', '포', '포', '포'), ('포', '포', '포', '포', '사'), ('포', '포', '포', '사', '사'), ('포', '포', '사', '사', '사'), ('포', '사', '사', '사', '사'), ('사', '사', '사', '사', '사')]\n",
            "21\n"
          ]
        }
      ]
    },
    {
      "cell_type": "markdown",
      "metadata": {
        "id": "EZxJiCdLdfaI"
      },
      "source": [
        "# Q6"
      ]
    },
    {
      "cell_type": "code",
      "execution_count": 12,
      "metadata": {
        "vscode": {
          "languageId": "plaintext"
        },
        "colab": {
          "base_uri": "https://localhost:8080/"
        },
        "id": "fCCMqd9zdfaI",
        "outputId": "a21c9945-717d-46be-d390-337102cc3527"
      },
      "outputs": [
        {
          "output_type": "stream",
          "name": "stdout",
          "text": [
            "P(B|A): 0.5\n",
            "P(B|O): 0.3181818181818182\n"
          ]
        }
      ],
      "source": [
        "import random\n",
        "answer_Q2 = 0\n",
        "answer_Q1andQ2 = 0\n",
        "answer_Q1orQ2 = 0\n",
        "random.seed(4)\n",
        "\n",
        "# 함수 정의\n",
        "def random_answer():\n",
        "    return random.choice([\"A\", \"B\"])\n",
        "\n",
        "\n",
        "# 30명의 응답 결과\n",
        "for i in range(30):\n",
        "  Q1 = random_answer()\n",
        "  Q2 = random_answer()\n",
        "  if Q2 == \"A\":\n",
        "     answer_Q2 += 1\n",
        "  if Q2 == \"A\" and Q1 == \"A\":\n",
        "     answer_Q1andQ2 += 1\n",
        "  if Q2 == \"A\" or Q1 == \"A\":\n",
        "     answer_Q1orQ2 += 1\n",
        "\n",
        "\n",
        "# 조건부 확률과 독립\n",
        "print( \"P(B|A):\", answer_Q1andQ2/answer_Q2)\n",
        "print( \"P(B|O):\", answer_Q1andQ2/answer_Q1orQ2)"
      ]
    },
    {
      "cell_type": "markdown",
      "metadata": {
        "id": "DC4Bk03cdfaI"
      },
      "source": [
        "# Q7"
      ]
    },
    {
      "cell_type": "code",
      "execution_count": 34,
      "metadata": {
        "vscode": {
          "languageId": "plaintext"
        },
        "colab": {
          "base_uri": "https://localhost:8080/"
        },
        "id": "sSJVqXPhdfaI",
        "outputId": "0b595fe4-52f8-447a-c69b-a41d7f1a2dc7"
      },
      "outputs": [
        {
          "output_type": "stream",
          "name": "stdout",
          "text": [
            "Die6\n",
            "분포도확인 {1: 1/6, 2: 1/6, 3: 1/6, 4: 1/6, 5: 1/6, 6: 1/6}\n",
            "Die6\n",
            "분포도 확인 {4: 1/3, 5: 1/3, 6: 1/3}\n"
          ]
        }
      ],
      "source": [
        "from sympy.stats import given, density, Die\n",
        "\n",
        "## Q1. 6개의 면이 있는 주사위 생성\n",
        "Die6 = Die('Die6', 6)\n",
        "Die6_dict = density(Die6).dict\n",
        "print(Die6)\n",
        "print(\"분포도확인\", Die6_dict)\n",
        "\n",
        "\n",
        "## Q2. 3 초과의 면만 나오는 조건을 가진 주사위 생성\n",
        "condi = given(Die6, Die6 > 3)\n",
        "condi_dict = density(condi).dict\n",
        "print(condi)\n",
        "print(\"분포도 확인\", condi_dict)\n"
      ]
    },
    {
      "cell_type": "code",
      "source": [
        "condi = given(Die6, Die6 == 3)\n",
        "condi_dict = density(condi).dict\n",
        "print(condi)\n",
        "print(\"분포도 확인\", condi_dict)"
      ],
      "metadata": {
        "colab": {
          "base_uri": "https://localhost:8080/"
        },
        "id": "TWzV2rmoPIyh",
        "outputId": "80a3203a-df6a-49a1-91ad-26853a773114"
      },
      "execution_count": 33,
      "outputs": [
        {
          "output_type": "stream",
          "name": "stdout",
          "text": [
            "Die6\n",
            "분포도 확인 {1: 1/6, 2: 1/6, 3: 1/6, 4: 1/6, 5: 1/6, 6: 1/6}\n"
          ]
        }
      ]
    },
    {
      "cell_type": "markdown",
      "metadata": {
        "id": "_xPiGKwIdfaI"
      },
      "source": [
        "# Q8"
      ]
    },
    {
      "cell_type": "code",
      "execution_count": 15,
      "metadata": {
        "vscode": {
          "languageId": "plaintext"
        },
        "colab": {
          "base_uri": "https://localhost:8080/",
          "height": 898
        },
        "id": "79g0m5PJdfaI",
        "outputId": "a7ad45c8-a772-476c-de0b-22a38a9c3dcb"
      },
      "outputs": [
        {
          "output_type": "display_data",
          "data": {
            "text/plain": [
              "<Figure size 640x480 with 1 Axes>"
            ],
            "image/png": "[encoded data removed]"
          },
          "metadata": {}
        },
        {
          "output_type": "display_data",
          "data": {
            "text/plain": [
              "<Figure size 640x480 with 1 Axes>"
            ],
            "image/png": "[encoded data removed]"
          },
          "metadata": {}
        },
        {
          "output_type": "stream",
          "name": "stdout",
          "text": [
            "[3 2 5 2 3 6 5 5 2 5 3 5 3 3 2 3 1 2 4 3 3 1 4 5 2 2 4 4 1 6 3 3 4 3 4 0 3\n",
            " 2 0 4 6 3 6 3 3 4 4 3 3 5]\n",
            "3.3\n"
          ]
        }
      ],
      "source": [
        "import numpy as np\n",
        "import matplotlib.pyplot as plt\n",
        "import scipy as sp\n",
        "from scipy import stats\n",
        "\n",
        "\n",
        "# Q1. 이항분포pmf 그리기\n",
        "# 이항분포 생성\n",
        "n, p = 10, 0.3\n",
        "stat_bin = sp.stats.binom(n, p)\n",
        "\n",
        "# 그리기\n",
        "fig, ax = plt.subplots()\n",
        "## pmf를 만드는 코드를 작성해 주세요\n",
        "x_axis = np.arange(n + 1)\n",
        "plt.bar(x_axis, stat_bin.pmf(x_axis))\n",
        "\n",
        "\n",
        "##\n",
        "plt.show()\n",
        "#fig.savefig(\"pmf_plot.png\")\n",
        "\n",
        "\n",
        "# Q2. 이항분포cdf 그리기\n",
        "## cdf 만드는 코드를 작성해 주세요\n",
        "x_axis = np.arange(n + 1)\n",
        "plt.bar(x_axis, stat_bin.cdf(x_axis))\n",
        "\n",
        "\n",
        "##\n",
        "plt.show()\n",
        "#fig.savefig(\"cdf_plot.png\")\n",
        "\n",
        "\n",
        "\n",
        "# Q3. 랜덤표본 추출\n",
        "## seed 설정 seed = 0\n",
        "\n",
        "\n",
        "## 랜덤 샘플 추출\n",
        "random_bin = np.random.binomial(n=10, p=0.3, size = 50)\n",
        "print(random_bin)\n",
        "## 평균계산\n",
        "bin_mean = np.mean(random_bin)\n",
        "print(bin_mean)\n"
      ]
    },
    {
      "cell_type": "markdown",
      "metadata": {
        "id": "QfHEpEljdfaI"
      },
      "source": [
        "# Q9"
      ]
    },
    {
      "cell_type": "code",
      "execution_count": 36,
      "metadata": {
        "vscode": {
          "languageId": "plaintext"
        },
        "colab": {
          "base_uri": "https://localhost:8080/",
          "height": 898
        },
        "id": "lMYHrKxIdfaI",
        "outputId": "31b3828a-6ff1-483a-8489-e2cd2da3b4f9"
      },
      "outputs": [
        {
          "output_type": "display_data",
          "data": {
            "text/plain": [
              "<Figure size 640x480 with 1 Axes>"
            ],
            "image/png": "[encoded data removed]"
          },
          "metadata": {}
        },
        {
          "output_type": "display_data",
          "data": {
            "text/plain": [
              "<Figure size 640x480 with 1 Axes>"
            ],
            "image/png": "[encoded data removed]"
          },
          "metadata": {}
        },
        {
          "output_type": "stream",
          "name": "stdout",
          "text": [
            "[2 3 2 1 0 1 2 2 1 1 2 3 1 0 4 2 2 1 1 1 1 2 3 0 1 3 1 4 2 4 1 1 0 0 1 1 3\n",
            " 2 3 2 2 0 3 0 4 3 1 5 2 1]\n",
            "평균: 1.76\n"
          ]
        }
      ],
      "source": [
        "import numpy as np\n",
        "import matplotlib.pyplot as plt\n",
        "import scipy as sp\n",
        "from scipy import stats\n",
        "\n",
        "\n",
        "# 초기하분포\n",
        "[M, n, N] = [30,5,10]\n",
        "stat_hyp = sp.stats.hypergeom(M, n, N)\n",
        "\n",
        "# 그리기\n",
        "fig, ax = plt.subplots()\n",
        "## pmf를 만드는 코드를 작성해 주세요\n",
        "x_axis = np.arange(n + 1)\n",
        "plt.bar(x_axis, stat_hyp.pmf(x_axis))\n",
        "\n",
        "\n",
        "##\n",
        "plt.show()\n",
        "#fig.savefig(\"pmf_plot.png\")\n",
        "\n",
        "\n",
        "# Q2. 초기하분포 cdf 그리기\n",
        "## cdf 만드는 코드를 작성해 주세요\n",
        "x_axis = np.arange(n + 1)\n",
        "plt.bar(x_axis, stat_hyp.cdf(x_axis))\n",
        "\n",
        "\n",
        "##\n",
        "plt.show()\n",
        "#fig.savefig(\"cdf_plot.png\")\n",
        "\n",
        "\n",
        "# Q3. 랜덤표본 추출\n",
        "## seed 설정 seed = 0\n",
        "np.random.seed(seed = 0)\n",
        "\n",
        "## 랜덤 샘플 추출\n",
        "random_hyp = np.random.hypergeometric(ngood= 5, nbad= 25, nsample= 10, size= 50)\n",
        "print(random_hyp)\n",
        "## 평균계산\n",
        "hyp_mean = np.mean(random_hyp)\n",
        "print(\"평균:\", hyp_mean)\n"
      ]
    },
    {
      "cell_type": "markdown",
      "metadata": {
        "id": "kGQPwUckdfaI"
      },
      "source": [
        "# Q10"
      ]
    },
    {
      "cell_type": "code",
      "execution_count": 39,
      "metadata": {
        "vscode": {
          "languageId": "plaintext"
        },
        "colab": {
          "base_uri": "https://localhost:8080/",
          "height": 1000
        },
        "id": "CDYWm2xqdfaI",
        "outputId": "6f70cd8f-027b-49ec-c3cc-e592dbf479a7"
      },
      "outputs": [
        {
          "output_type": "display_data",
          "data": {
            "text/plain": [
              "<Figure size 640x480 with 1 Axes>"
            ],
            "image/png": "[encoded data removed]"
          },
          "metadata": {}
        },
        {
          "output_type": "display_data",
          "data": {
            "text/plain": [
              "<Figure size 640x480 with 1 Axes>"
            ],
            "image/png": "[encoded data removed]"
          },
          "metadata": {}
        },
        {
          "output_type": "stream",
          "name": "stdout",
          "text": [
            "[0.5488135  0.71518937 0.60276338 0.54488318 0.4236548  0.64589411\n",
            " 0.43758721 0.891773   0.96366276 0.38344152 0.79172504 0.52889492\n",
            " 0.56804456 0.92559664 0.07103606 0.0871293  0.0202184  0.83261985\n",
            " 0.77815675 0.87001215 0.97861834 0.79915856 0.46147936 0.78052918\n",
            " 0.11827443 0.63992102 0.14335329 0.94466892 0.52184832 0.41466194\n",
            " 0.26455561 0.77423369 0.45615033 0.56843395 0.0187898  0.6176355\n",
            " 0.61209572 0.616934   0.94374808 0.6818203  0.3595079  0.43703195\n",
            " 0.6976312  0.06022547 0.66676672 0.67063787 0.21038256 0.1289263\n",
            " 0.31542835 0.36371077 0.57019677 0.43860151 0.98837384 0.10204481\n",
            " 0.20887676 0.16130952 0.65310833 0.2532916  0.46631077 0.24442559\n",
            " 0.15896958 0.11037514 0.65632959 0.13818295 0.19658236 0.36872517\n",
            " 0.82099323 0.09710128 0.83794491 0.09609841 0.97645947 0.4686512\n",
            " 0.97676109 0.60484552 0.73926358 0.03918779 0.28280696 0.12019656\n",
            " 0.2961402  0.11872772 0.31798318 0.41426299 0.0641475  0.69247212\n",
            " 0.56660145 0.26538949 0.52324805 0.09394051 0.5759465  0.9292962\n",
            " 0.31856895 0.66741038 0.13179786 0.7163272  0.28940609 0.18319136\n",
            " 0.58651293 0.02010755 0.82894003 0.00469548]\n",
            "평균: 0.4727938395125177\n"
          ]
        }
      ],
      "source": [
        "import numpy as np\n",
        "import matplotlib.pyplot as plt\n",
        "import scipy as sp\n",
        "from scipy import stats\n",
        "\n",
        "\n",
        "# 균일분포\n",
        "stat_uni = sp.stats.uniform()\n",
        "\n",
        "# 그리기\n",
        "fig, ax = plt.subplots()\n",
        "## pdf를 만드는 코드를 작성해 주세요\n",
        "x_axis = np.linspace(0, 1, 100)\n",
        "plt.bar(x_axis, stat_uni.pdf(x_axis))\n",
        "\n",
        "\n",
        "##\n",
        "plt.show()\n",
        "#fig.savefig(\"pdf_plot.png\")\n",
        "\n",
        "\n",
        "# Q2. 균일분포 cdf 그리기\n",
        "## cdf 만드는 코드를 작성해 주세요\n",
        "x_axis = np.linspace(0, 1, 100)\n",
        "plt.bar(x_axis, stat_uni.cdf(x_axis))\n",
        "\n",
        "\n",
        "##\n",
        "plt.show()\n",
        "#fig.savefig(\"cdf_plot.png\")\n",
        "\n",
        "\n",
        "# Q3. 균일분포 샘플링\n",
        "## seed 설정\n",
        "np.random.seed(seed=0)\n",
        "\n",
        "## 샘플 추출\n",
        "random_uni = np.random.uniform(0, 1, 100)\n",
        "print(random_uni)\n",
        "\n",
        "## 평균 계산\n",
        "uni_mean = np.mean(random_uni)\n",
        "print(\"평균:\", uni_mean)\n"
      ]
    },
    {
      "cell_type": "markdown",
      "metadata": {
        "id": "4npgiE_UdfaJ"
      },
      "source": [
        "# Q11"
      ]
    },
    {
      "cell_type": "code",
      "execution_count": 40,
      "metadata": {
        "vscode": {
          "languageId": "plaintext"
        },
        "colab": {
          "base_uri": "https://localhost:8080/",
          "height": 1000
        },
        "id": "-a37Rx4RdfaJ",
        "outputId": "c04fa2a4-d2bf-47fb-9e8b-57dc9be9391e"
      },
      "outputs": [
        {
          "output_type": "display_data",
          "data": {
            "text/plain": [
              "<Figure size 640x480 with 1 Axes>"
            ],
            "image/png": "[encoded data removed]"
          },
          "metadata": {}
        },
        {
          "output_type": "display_data",
          "data": {
            "text/plain": [
              "<Figure size 640x480 with 1 Axes>"
            ],
            "image/png": "[encoded data removed]"
          },
          "metadata": {}
        },
        {
          "output_type": "stream",
          "name": "stdout",
          "text": [
            "[ 1.76405235  0.40015721  0.97873798  2.2408932   1.86755799 -0.97727788\n",
            "  0.95008842 -0.15135721 -0.10321885  0.4105985   0.14404357  1.45427351\n",
            "  0.76103773  0.12167502  0.44386323  0.33367433  1.49407907 -0.20515826\n",
            "  0.3130677  -0.85409574 -2.55298982  0.6536186   0.8644362  -0.74216502\n",
            "  2.26975462 -1.45436567  0.04575852 -0.18718385  1.53277921  1.46935877\n",
            "  0.15494743  0.37816252 -0.88778575 -1.98079647 -0.34791215  0.15634897\n",
            "  1.23029068  1.20237985 -0.38732682 -0.30230275 -1.04855297 -1.42001794\n",
            " -1.70627019  1.9507754  -0.50965218 -0.4380743  -1.25279536  0.77749036\n",
            " -1.61389785 -0.21274028 -0.89546656  0.3869025  -0.51080514 -1.18063218\n",
            " -0.02818223  0.42833187  0.06651722  0.3024719  -0.63432209 -0.36274117\n",
            " -0.67246045 -0.35955316 -0.81314628 -1.7262826   0.17742614 -0.40178094\n",
            " -1.63019835  0.46278226 -0.90729836  0.0519454   0.72909056  0.12898291\n",
            "  1.13940068 -1.23482582  0.40234164 -0.68481009 -0.87079715 -0.57884966\n",
            " -0.31155253  0.05616534 -1.16514984  0.90082649  0.46566244 -1.53624369\n",
            "  1.48825219  1.89588918  1.17877957 -0.17992484 -1.07075262  1.05445173\n",
            " -0.40317695  1.22244507  0.20827498  0.97663904  0.3563664   0.70657317\n",
            "  0.01050002  1.78587049  0.12691209  0.40198936]\n",
            "평균: 0.059808015534485\n"
          ]
        }
      ],
      "source": [
        "import numpy as np\n",
        "import matplotlib.pyplot as plt\n",
        "import scipy as sp\n",
        "from scipy import stats\n",
        "\n",
        "\n",
        "# 정규분포\n",
        "stat_nor = sp.stats.norm(0, 1)\n",
        "\n",
        "# Q1. 정규분포 pdf 그리기\n",
        "fig, ax = plt.subplots()\n",
        "## pdf를 만드는 코드를 작성해 주세요\n",
        "x_axis = np.linspace(-3, 3, 100)\n",
        "plt.bar(x_axis, stat_nor.pdf(x_axis))\n",
        "\n",
        "\n",
        "##\n",
        "plt.show()\n",
        "#fig.savefig(\"pdf_plot.png\")\n",
        "\n",
        "\n",
        "# Q2. 정규분포 cdf 그리기\n",
        "## cdf 만드는 코드를 작성해 주세요\n",
        "x_axis = np.linspace(-3, 3, 100)\n",
        "plt.bar(x_axis, stat_nor.cdf(x_axis))\n",
        "\n",
        "\n",
        "##\n",
        "plt.show()\n",
        "#fig.savefig(\"cdf_plot.png\")\n",
        "\n",
        "\n",
        "# Q3. 정규분포 샘플링\n",
        "## seed 설정\n",
        "np.random.seed(seed=0)\n",
        "\n",
        "## 샘플 추출\n",
        "random_nor = np.random.normal(0, 1, 100)\n",
        "print(random_nor)\n",
        "\n",
        "## 평균 계산\n",
        "nor_mean = np.mean(random_nor)\n",
        "print(\"평균:\",nor_mean)\n"
      ]
    },
    {
      "cell_type": "markdown",
      "metadata": {
        "id": "SNk_o_9XdfaJ"
      },
      "source": [
        "# Q12"
      ]
    },
    {
      "cell_type": "code",
      "execution_count": 43,
      "metadata": {
        "vscode": {
          "languageId": "plaintext"
        },
        "colab": {
          "base_uri": "https://localhost:8080/"
        },
        "id": "JgpKxB6YdfaJ",
        "outputId": "3722d374-a803-427d-f347-12b7290ec6cc"
      },
      "outputs": [
        {
          "output_type": "stream",
          "name": "stdout",
          "text": [
            "[1 1 1 1 0 1 0 1 1 0 1 1 1 1 0 0 0 1 1 1 1 1 0 1 0 1 0 1 1 0 0 1 0 1 0 1 1\n",
            " 1 1 1 0 0 1 0 1 1 0 0 0 0]\n",
            "30\n",
            "BinomTestResult(k=30, n=50, alternative='two-sided', statistic=0.6, pvalue=0.20263875106454066)\n"
          ]
        }
      ],
      "source": [
        "import numpy as np\n",
        "import scipy as sp\n",
        "from scipy import stats\n",
        "\n",
        "# 이항 검정\n",
        "## 1) seed 설정 seed = 0\n",
        "np.random.seed(seed=0)\n",
        "## 2) 샘플 추출\n",
        "random_ber = np.random.binomial(n= 1, p= 0.5, size= 50)\n",
        "print(random_ber)\n",
        "\n",
        "n_ber = np.count_nonzero(random_ber)\n",
        "print(n_ber)\n",
        "\n",
        "## 3) 가설 검정\n",
        "binom_test = sp.stats.binomtest(n_ber, 50)\n",
        "print(binom_test)\n",
        "\n",
        "#귀무가설 : “새로 출시한 치킨을 선호하는 사람은 치킨 선호 유형과 연관이 없다 (p=0.5)\n",
        "#대립가설 : “새로 출시한 치킨을 선호하는 사람은 치킨 선호 유형과 연관이 있다 (p!=0.5)\n",
        "#검정 결과: p=0.2 > 0.05(유의수준) -> 귀무가설 채택"
      ]
    },
    {
      "cell_type": "markdown",
      "metadata": {
        "id": "-mtQ9frTdfaJ"
      },
      "source": [
        "# Q13"
      ]
    },
    {
      "cell_type": "code",
      "execution_count": 48,
      "metadata": {
        "vscode": {
          "languageId": "plaintext"
        },
        "colab": {
          "base_uri": "https://localhost:8080/"
        },
        "id": "ID_xyB8mdfaJ",
        "outputId": "9cfe9343-95f3-4e7b-8fb9-15e052e9dd0d"
      },
      "outputs": [
        {
          "output_type": "stream",
          "name": "stdout",
          "text": [
            "표본 10개: [108.82026173 102.00078604 104.89368992 111.204466   109.33778995\n",
            "  95.1136106  104.75044209  99.24321396  99.48390574 102.05299251]\n",
            "표본의 평균: 103.69011585364417\n",
            "가설검정: 0.019604406021683562\n"
          ]
        }
      ],
      "source": [
        "import numpy as np\n",
        "import scipy as sp\n",
        "from scipy import stats\n",
        "\n",
        "# 모평균 가설검정\n",
        "## 1) seed 설정 seed = 0\n",
        "np.random.seed(seed=0)\n",
        "## 2) 샘플 추출\n",
        "random_nor = np.random.normal(100,5,10)  #(모평균, 표준편차,표본수)\n",
        "print(\"표본 10개:\",random_nor)\n",
        "\n",
        "# 평균 계산\n",
        "nor_mean = np.mean(random_nor)\n",
        "print(\"표본의 평균:\",nor_mean)\n",
        "\n",
        "## 3) 모평균 가설 검정 함수 정의\n",
        "def ztest(stat, mu, sigma):\n",
        "    z = (stat.mean() - mu) / (sigma / np.sqrt(len(stat)))\n",
        "    return (2 * (1 - sp.stats.norm.cdf(z)))\n",
        "\n",
        "## 4) 모평균 가설 검정\n",
        "mu_test = ztest(random_nor, 100, 5)\n",
        "print(\"가설검정:\",mu_test)"
      ]
    }
  ],
  "metadata": {
    "language_info": {
      "name": "python"
    },
    "colab": {
      "provenance": [],
      "include_colab_link": true
    },
    "kernelspec": {
      "name": "python3",
      "display_name": "Python 3"
    }
  },
  "nbformat": 4,
  "nbformat_minor": 0
}